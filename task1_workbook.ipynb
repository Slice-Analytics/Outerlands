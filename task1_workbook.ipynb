{
 "cells": [
  {
   "cell_type": "code",
   "execution_count": 42,
   "metadata": {},
   "outputs": [],
   "source": [
    "import requests\n",
    "import pandas as pd\n",
    "\n",
    "def getProtocols():\n",
    "    resp = requests.get('https://api.llama.fi/protocols')\n",
    "    return resp.json()\n",
    "\n",
    "protocols = getProtocols()\n",
    "df = pd.json_normalize(protocols)"
   ]
  },
  {
   "cell_type": "code",
   "execution_count": 43,
   "metadata": {},
   "outputs": [
    {
     "name": "stdout",
     "output_type": "stream",
     "text": [
      "Min TVL: 10000000\n",
      "Protocols Tracked: 393\n"
     ]
    }
   ],
   "source": [
    "def getProtocolTVLHistorical(protocol_slug):\n",
    "    url = f'https://api.llama.fi/protocol/{protocol_slug}'\n",
    "    resp = requests.get(url)\n",
    "    if resp.status_code == 200:\n",
    "        resp = resp.json()\n",
    "        # print(list(resp.keys()))\n",
    "        # print(type(resp['tvl']))\n",
    "        # print(resp['tvl'][0])  # \n",
    "        temp_dates, temp_tvls = [], []\n",
    "        for dict in resp['tvl']:\n",
    "            temp_dates.append(dict['date'])\n",
    "            temp_tvls.append(dict['totalLiquidityUSD'])\n",
    "        return temp_dates, temp_tvls\n",
    "    \n",
    "def processTVLData(tdates, ttvls):\n",
    "    tdf = pd.DataFrame(data={'timestamp': tdates, 'tvls': ttvls})\n",
    "    tdf['dates'] = tdf['timestamp'].values.astype(dtype='datetime64[s]')\n",
    "    tdf['dates'] = pd.to_datetime(tdf['dates']).dt.date\n",
    "    tdf['7dma'] = tdf['tvls'].rolling(window=7, min_periods=1).mean()\n",
    "    tdf['7dma_%'] = tdf['7dma'].pct_change(periods=1).fillna(0)\n",
    "    tdf['1mma'] = tdf['tvls'].rolling(window=30, min_periods=1).mean()\n",
    "    tdf['1mma_%'] = tdf['1mma'].pct_change(periods=1).fillna(0)\n",
    "    sevenday = tdf['7dma_%'].values.tolist()[-1]\n",
    "    thirtyday = tdf['1mma_%'].values.tolist()[-1]\n",
    "    return sevenday, thirtyday\n",
    "\n",
    "\n",
    "min_tvl = 10_000_000\n",
    "print(f'Min TVL: {min_tvl}')\n",
    "df = df[df['tvl'] >= min_tvl]\n",
    "print(f'Protocols Tracked: {len(df)}')\n",
    "# slugs = df['slug'].values.tolist()\n",
    "# print(slugs[0])\n",
    "# sevendayma, thirtydayma = [], []\n",
    "# for slug in slugs:\n",
    "#     dates, tvls = getProtocolTVLHistorical(slug)\n",
    "#     tempa, tempb = processTVLData(dates, tvls)\n",
    "#     sevendayma.append(tempa)\n",
    "#     thirtydayma.append(tempb)\n",
    "# df['7dma_%'] = sevendayma\n",
    "# df['1mma_%'] = thirtydayma"
   ]
  },
  {
   "cell_type": "code",
   "execution_count": 44,
   "metadata": {},
   "outputs": [],
   "source": [
    "# volume stats\n",
    "url = 'https://api.llama.fi/overview/dexs?excludeTotalDataChart=true&excludeTotalDataChartBreakdown=true&dataType=dailyVolume'\n",
    "resp = requests.get(url)\n",
    "resp = resp.json()\n"
   ]
  },
  {
   "cell_type": "code",
   "execution_count": 75,
   "metadata": {},
   "outputs": [
    {
     "name": "stdout",
     "output_type": "stream",
     "text": [
      "305\n",
      "4\n",
      "       id  change_7d  change_1m\n",
      "0    2116     -30.21      90.84\n",
      "1    2345      23.04      -5.02\n",
      "2    2283     -55.23     -72.77\n",
      "3     951     -63.44     -60.61\n",
      "4    2695     -61.77     -74.42\n",
      "..    ...        ...        ...\n",
      "304  2198     -52.84     -36.88\n",
      "305   128     -99.02     -98.30\n",
      "306   503      42.96     -47.49\n",
      "307   381      48.29     -62.22\n",
      "308   534     -48.18      32.63\n",
      "\n",
      "[309 rows x 3 columns]\n"
     ]
    }
   ],
   "source": [
    "url = 'https://api.llama.fi/overview/dexs?excludeTotalDataChart=true&excludeTotalDataChartBreakdown=true&dataType=dailyVolume'\n",
    "resp = requests.get(url)\n",
    "resp = resp.json()\n",
    "# print(df)\n",
    "# print(resp['protocols'][0])\n",
    "df_vol = pd.json_normalize(resp['protocols'])\n",
    "# REname defillamJoin on \n",
    "df_vol = df_vol.rename(columns={'defillamaId': 'id'})\n",
    "df_vol = df_vol[['id', 'change_7d', 'change_1m']]\n",
    "# print(df_vol)\n",
    "print(len(df_vol))\n",
    "\n",
    "url = 'https://api.llama.fi/overview/options?excludeTotalDataChart=true&excludeTotalDataChartBreakdown=true&dataType=dailyPremiumVolume'\n",
    "resp = requests.get(url).json()\n",
    "# print(resp)\n",
    "df_vol2 = pd.json_normalize(resp['protocols'])\n",
    "df_vol2 = df_vol2.rename(columns={'defillamaId': 'id'})\n",
    "df_vol2 = df_vol2[['id', 'change_7d', 'change_1m']]\n",
    "# print(df_vol2)\n",
    "print(len(df_vol2))\n",
    "df_vol = pd.concat([df_vol, df_vol2]).reset_index(drop=True)\n",
    "df_vol['id'].astype(int)\n",
    "print(df_vol)\n"
   ]
  },
  {
   "cell_type": "code",
   "execution_count": 95,
   "metadata": {},
   "outputs": [
    {
     "name": "stdout",
     "output_type": "stream",
     "text": [
      "393\n",
      "309\n",
      "81\n"
     ]
    }
   ],
   "source": [
    "df = df[['id', 'name', 'address', 'symbol']]\n",
    "print(len(df))\n",
    "df['id'].astype(int)\n",
    "# print(df.info())\n",
    "df['7dma_%'] = \"7\"\n",
    "df['1mma_%'] = \"30\"\n",
    "# print(df_vol.info())\n",
    "df_vol['id'].astype(int)\n",
    "print(len(df_vol))\n",
    "df = df.merge(df_vol, how='left', on='id')\n",
    "print(df['change_7d'].count())\n"
   ]
  },
  {
   "cell_type": "code",
   "execution_count": 4,
   "metadata": {},
   "outputs": [
    {
     "name": "stdout",
     "output_type": "stream",
     "text": [
      "false\n"
     ]
    }
   ],
   "source": [
    "a = []\n",
    "if a:\n",
    "    print('a')\n",
    "else:\n",
    "    print('false')"
   ]
  },
  {
   "cell_type": "code",
   "execution_count": 4,
   "metadata": {},
   "outputs": [
    {
     "name": "stdout",
     "output_type": "stream",
     "text": [
      "416\n",
      "                                         wallet\n",
      "0    0x5a98fcbea516cf06857215779fd812ca3bef1b32\n",
      "1    0x9f8f72aa9304c8b593d555f12ef6589cc3a579a2\n",
      "2    0x7d1afa7b718fb893db30a3abc0cfc608aacfebb0\n",
      "3    0x2260fac5e5542a773aa44fbcfedf7c193bc2c599\n",
      "4    0xD533a949740bb3306d119CC777fa900bA034cd52\n",
      "..                                          ...\n",
      "167  0xde30da39c46104798bb5aa3fe8b9e0e1f348163f\n",
      "168  0xc18360217d8f7ab5e7c516566761ea12ce7f9d72\n",
      "169  0x6810e776880c02933d47db1b9fc05908e5386b96\n",
      "170  0x514910771af9ca656af840dff83e8264ecf986ca\n",
      "171  0x4d224452801aced8b2f0aebe155379bb5d594381\n",
      "\n",
      "[172 rows x 1 columns]\n"
     ]
    }
   ],
   "source": [
    "import pandas as pd\n",
    "\n",
    "df = pd.read_csv('variant_db.csv')\n",
    "print(len(df))\n",
    "# print(len(df))\n",
    "# print(df['address'].count())\n",
    "# df['address'] = df['address'].fillna('No')\n",
    "# df2 = df[~df[\"address\"].str.contains(':')]\n",
    "# df2 = df2[df2[\"address\"] != 'No'].reset_index(drop=True)\n",
    "# print(len(df2))\n",
    "# print(df2)\n",
    "\n",
    "hdc = df['address'].values.tolist()\n",
    "\n",
    "wallet_list = []\n",
    "# print(len(hdc))\n",
    "for i, address in enumerate(hdc):\n",
    "    if address == address and (\":\" not in address):\n",
    "        # print(f'searching: {address}')\n",
    "        # Get Holder Count Data (7d & 1m change)\n",
    "        wallet_list.append(address)\n",
    "        \n",
    "wdf = pd.DataFrame(data={'wallet': wallet_list})\n",
    "wdf.to_csv('testaddresses.csv', index=False)\n",
    "print(wdf)"
   ]
  }
 ],
 "metadata": {
  "kernelspec": {
   "display_name": "venv",
   "language": "python",
   "name": "python3"
  },
  "language_info": {
   "codemirror_mode": {
    "name": "ipython",
    "version": 3
   },
   "file_extension": ".py",
   "mimetype": "text/x-python",
   "name": "python",
   "nbconvert_exporter": "python",
   "pygments_lexer": "ipython3",
   "version": "3.9.13"
  },
  "orig_nbformat": 4
 },
 "nbformat": 4,
 "nbformat_minor": 2
}
