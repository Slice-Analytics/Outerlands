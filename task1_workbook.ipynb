{
 "cells": [
  {
   "cell_type": "code",
   "execution_count": 42,
   "metadata": {},
   "outputs": [],
   "source": [
    "import requests\n",
    "import pandas as pd\n",
    "\n",
    "def getProtocols():\n",
    "    resp = requests.get('https://api.llama.fi/protocols')\n",
    "    return resp.json()\n",
    "\n",
    "protocols = getProtocols()\n",
    "df = pd.json_normalize(protocols)"
   ]
  },
  {
   "cell_type": "code",
   "execution_count": 43,
   "metadata": {},
   "outputs": [
    {
     "name": "stdout",
     "output_type": "stream",
     "text": [
      "Min TVL: 10000000\n",
      "Protocols Tracked: 393\n"
     ]
    }
   ],
   "source": [
    "def getProtocolTVLHistorical(protocol_slug):\n",
    "    url = f'https://api.llama.fi/protocol/{protocol_slug}'\n",
    "    resp = requests.get(url)\n",
    "    if resp.status_code == 200:\n",
    "        resp = resp.json()\n",
    "        # print(list(resp.keys()))\n",
    "        # print(type(resp['tvl']))\n",
    "        # print(resp['tvl'][0])  # \n",
    "        temp_dates, temp_tvls = [], []\n",
    "        for dict in resp['tvl']:\n",
    "            temp_dates.append(dict['date'])\n",
    "            temp_tvls.append(dict['totalLiquidityUSD'])\n",
    "        return temp_dates, temp_tvls\n",
    "    \n",
    "def processTVLData(tdates, ttvls):\n",
    "    tdf = pd.DataFrame(data={'timestamp': tdates, 'tvls': ttvls})\n",
    "    tdf['dates'] = tdf['timestamp'].values.astype(dtype='datetime64[s]')\n",
    "    tdf['dates'] = pd.to_datetime(tdf['dates']).dt.date\n",
    "    tdf['7dma'] = tdf['tvls'].rolling(window=7, min_periods=1).mean()\n",
    "    tdf['7dma_%'] = tdf['7dma'].pct_change(periods=1).fillna(0)\n",
    "    tdf['1mma'] = tdf['tvls'].rolling(window=30, min_periods=1).mean()\n",
    "    tdf['1mma_%'] = tdf['1mma'].pct_change(periods=1).fillna(0)\n",
    "    sevenday = tdf['7dma_%'].values.tolist()[-1]\n",
    "    thirtyday = tdf['1mma_%'].values.tolist()[-1]\n",
    "    return sevenday, thirtyday\n",
    "\n",
    "\n",
    "min_tvl = 10_000_000\n",
    "print(f'Min TVL: {min_tvl}')\n",
    "df = df[df['tvl'] >= min_tvl]\n",
    "print(f'Protocols Tracked: {len(df)}')\n",
    "# slugs = df['slug'].values.tolist()\n",
    "# print(slugs[0])\n",
    "# sevendayma, thirtydayma = [], []\n",
    "# for slug in slugs:\n",
    "#     dates, tvls = getProtocolTVLHistorical(slug)\n",
    "#     tempa, tempb = processTVLData(dates, tvls)\n",
    "#     sevendayma.append(tempa)\n",
    "#     thirtydayma.append(tempb)\n",
    "# df['7dma_%'] = sevendayma\n",
    "# df['1mma_%'] = thirtydayma"
   ]
  },
  {
   "cell_type": "code",
   "execution_count": 44,
   "metadata": {},
   "outputs": [],
   "source": [
    "# volume stats\n",
    "url = 'https://api.llama.fi/overview/dexs?excludeTotalDataChart=true&excludeTotalDataChartBreakdown=true&dataType=dailyVolume'\n",
    "resp = requests.get(url)\n",
    "resp = resp.json()\n"
   ]
  },
  {
   "cell_type": "code",
   "execution_count": 75,
   "metadata": {},
   "outputs": [
    {
     "name": "stdout",
     "output_type": "stream",
     "text": [
      "305\n",
      "4\n",
      "       id  change_7d  change_1m\n",
      "0    2116     -30.21      90.84\n",
      "1    2345      23.04      -5.02\n",
      "2    2283     -55.23     -72.77\n",
      "3     951     -63.44     -60.61\n",
      "4    2695     -61.77     -74.42\n",
      "..    ...        ...        ...\n",
      "304  2198     -52.84     -36.88\n",
      "305   128     -99.02     -98.30\n",
      "306   503      42.96     -47.49\n",
      "307   381      48.29     -62.22\n",
      "308   534     -48.18      32.63\n",
      "\n",
      "[309 rows x 3 columns]\n"
     ]
    }
   ],
   "source": [
    "url = 'https://api.llama.fi/overview/dexs?excludeTotalDataChart=true&excludeTotalDataChartBreakdown=true&dataType=dailyVolume'\n",
    "resp = requests.get(url)\n",
    "resp = resp.json()\n",
    "# print(df)\n",
    "# print(resp['protocols'][0])\n",
    "df_vol = pd.json_normalize(resp['protocols'])\n",
    "# REname defillamJoin on \n",
    "df_vol = df_vol.rename(columns={'defillamaId': 'id'})\n",
    "df_vol = df_vol[['id', 'change_7d', 'change_1m']]\n",
    "# print(df_vol)\n",
    "print(len(df_vol))\n",
    "\n",
    "url = 'https://api.llama.fi/overview/options?excludeTotalDataChart=true&excludeTotalDataChartBreakdown=true&dataType=dailyPremiumVolume'\n",
    "resp = requests.get(url).json()\n",
    "# print(resp)\n",
    "df_vol2 = pd.json_normalize(resp['protocols'])\n",
    "df_vol2 = df_vol2.rename(columns={'defillamaId': 'id'})\n",
    "df_vol2 = df_vol2[['id', 'change_7d', 'change_1m']]\n",
    "# print(df_vol2)\n",
    "print(len(df_vol2))\n",
    "df_vol = pd.concat([df_vol, df_vol2]).reset_index(drop=True)\n",
    "df_vol['id'].astype(int)\n",
    "print(df_vol)\n"
   ]
  },
  {
   "cell_type": "code",
   "execution_count": 95,
   "metadata": {},
   "outputs": [
    {
     "name": "stdout",
     "output_type": "stream",
     "text": [
      "393\n",
      "309\n",
      "81\n"
     ]
    }
   ],
   "source": [
    "df = df[['id', 'name', 'address', 'symbol']]\n",
    "print(len(df))\n",
    "df['id'].astype(int)\n",
    "# print(df.info())\n",
    "df['7dma_%'] = \"7\"\n",
    "df['1mma_%'] = \"30\"\n",
    "# print(df_vol.info())\n",
    "df_vol['id'].astype(int)\n",
    "print(len(df_vol))\n",
    "df = df.merge(df_vol, how='left', on='id')\n",
    "print(df['change_7d'].count())\n"
   ]
  },
  {
   "cell_type": "code",
   "execution_count": 4,
   "metadata": {},
   "outputs": [
    {
     "name": "stdout",
     "output_type": "stream",
     "text": [
      "false\n"
     ]
    }
   ],
   "source": [
    "a = []\n",
    "if a:\n",
    "    print('a')\n",
    "else:\n",
    "    print('false')"
   ]
  },
  {
   "cell_type": "code",
   "execution_count": 1,
   "metadata": {},
   "outputs": [
    {
     "name": "stdout",
     "output_type": "stream",
     "text": [
      "Collecting web3\n",
      "  Downloading web3-6.3.0-py3-none-any.whl (574 kB)\n",
      "                                              0.0/574.0 kB ? eta -:--:--\n",
      "     --------------                         215.0/574.0 kB 4.5 MB/s eta 0:00:01\n",
      "     -------------------------------------  573.4/574.0 kB 7.2 MB/s eta 0:00:01\n",
      "     -------------------------------------- 574.0/574.0 kB 5.2 MB/s eta 0:00:00\n",
      "Collecting aiohttp>=3.7.4.post0 (from web3)\n",
      "  Using cached aiohttp-3.8.4-cp39-cp39-win_amd64.whl (323 kB)\n",
      "Collecting eth-abi>=4.0.0 (from web3)\n",
      "  Using cached eth_abi-4.0.0-py3-none-any.whl (28 kB)\n",
      "Collecting eth-account>=0.8.0 (from web3)\n",
      "  Using cached eth_account-0.8.0-py3-none-any.whl (102 kB)\n",
      "Collecting eth-hash[pycryptodome]>=0.5.1 (from web3)\n",
      "  Using cached eth_hash-0.5.1-py3-none-any.whl (9.0 kB)\n",
      "Collecting eth-typing>=3.0.0 (from web3)\n",
      "  Using cached eth_typing-3.3.0-py3-none-any.whl (6.3 kB)\n",
      "Collecting eth-utils>=2.1.0 (from web3)\n",
      "  Using cached eth_utils-2.1.0-py3-none-any.whl (24 kB)\n",
      "Collecting hexbytes>=0.1.0 (from web3)\n",
      "  Using cached hexbytes-0.3.0-py3-none-any.whl (6.4 kB)\n",
      "Collecting jsonschema>=4.0.0 (from web3)\n",
      "  Using cached jsonschema-4.17.3-py3-none-any.whl (90 kB)\n",
      "Collecting lru-dict>=1.1.6 (from web3)\n",
      "  Using cached lru_dict-1.1.8-cp39-cp39-win_amd64.whl (12 kB)\n",
      "Collecting protobuf>=4.21.6 (from web3)\n",
      "  Downloading protobuf-4.22.4-cp39-cp39-win_amd64.whl (420 kB)\n",
      "                                              0.0/420.6 kB ? eta -:--:--\n",
      "     ------------------------------------  419.8/420.6 kB 13.2 MB/s eta 0:00:01\n",
      "     -------------------------------------- 420.6/420.6 kB 5.3 MB/s eta 0:00:00\n",
      "Requirement already satisfied: requests>=2.16.0 in c:\\users\\allen\\documents\\github\\variant\\venv\\lib\\site-packages (from web3) (2.29.0)\n",
      "Collecting websockets>=10.0.0 (from web3)\n",
      "  Using cached websockets-11.0.2-cp39-cp39-win_amd64.whl (124 kB)\n",
      "Requirement already satisfied: pywin32>=223 in c:\\users\\allen\\documents\\github\\variant\\venv\\lib\\site-packages (from web3) (306)\n",
      "Collecting attrs>=17.3.0 (from aiohttp>=3.7.4.post0->web3)\n",
      "  Using cached attrs-23.1.0-py3-none-any.whl (61 kB)\n",
      "Requirement already satisfied: charset-normalizer<4.0,>=2.0 in c:\\users\\allen\\documents\\github\\variant\\venv\\lib\\site-packages (from aiohttp>=3.7.4.post0->web3) (3.1.0)\n",
      "Collecting multidict<7.0,>=4.5 (from aiohttp>=3.7.4.post0->web3)\n",
      "  Using cached multidict-6.0.4-cp39-cp39-win_amd64.whl (28 kB)\n",
      "Collecting async-timeout<5.0,>=4.0.0a3 (from aiohttp>=3.7.4.post0->web3)\n",
      "  Using cached async_timeout-4.0.2-py3-none-any.whl (5.8 kB)\n",
      "Collecting yarl<2.0,>=1.0 (from aiohttp>=3.7.4.post0->web3)\n",
      "  Using cached yarl-1.9.2-cp39-cp39-win_amd64.whl (61 kB)\n",
      "Collecting frozenlist>=1.1.1 (from aiohttp>=3.7.4.post0->web3)\n",
      "  Using cached frozenlist-1.3.3-cp39-cp39-win_amd64.whl (34 kB)\n",
      "Collecting aiosignal>=1.1.2 (from aiohttp>=3.7.4.post0->web3)\n",
      "  Using cached aiosignal-1.3.1-py3-none-any.whl (7.6 kB)\n",
      "Collecting parsimonious<0.10.0,>=0.9.0 (from eth-abi>=4.0.0->web3)\n",
      "  Using cached parsimonious-0.9.0.tar.gz (48 kB)\n",
      "  Installing build dependencies: started\n",
      "  Installing build dependencies: finished with status 'done'\n",
      "  Getting requirements to build wheel: started\n",
      "  Getting requirements to build wheel: finished with status 'done'\n",
      "  Preparing metadata (pyproject.toml): started\n",
      "  Preparing metadata (pyproject.toml): finished with status 'done'\n",
      "Collecting bitarray<3,>=2.4.0 (from eth-account>=0.8.0->web3)\n",
      "  Using cached bitarray-2.7.3-cp39-cp39-win_amd64.whl (118 kB)\n",
      "Collecting eth-keyfile<0.7.0,>=0.6.0 (from eth-account>=0.8.0->web3)\n",
      "  Using cached eth_keyfile-0.6.1-py3-none-any.whl (6.5 kB)\n",
      "Collecting eth-keys<0.5,>=0.4.0 (from eth-account>=0.8.0->web3)\n",
      "  Using cached eth_keys-0.4.0-py3-none-any.whl (21 kB)\n",
      "Collecting eth-rlp<1,>=0.3.0 (from eth-account>=0.8.0->web3)\n",
      "  Using cached eth_rlp-0.3.0-py3-none-any.whl (5.0 kB)\n",
      "Collecting rlp<4,>=1.0.0 (from eth-account>=0.8.0->web3)\n",
      "  Using cached rlp-3.0.0-py2.py3-none-any.whl (20 kB)\n",
      "Collecting pycryptodome<4,>=3.6.6 (from eth-hash[pycryptodome]>=0.5.1->web3)\n",
      "  Using cached pycryptodome-3.17-cp35-abi3-win_amd64.whl (1.7 MB)\n",
      "Collecting cytoolz>=0.10.1 (from eth-utils>=2.1.0->web3)\n",
      "  Using cached cytoolz-0.12.1-cp39-cp39-win_amd64.whl (329 kB)\n",
      "Collecting pyrsistent!=0.17.0,!=0.17.1,!=0.17.2,>=0.14.0 (from jsonschema>=4.0.0->web3)\n",
      "  Using cached pyrsistent-0.19.3-cp39-cp39-win_amd64.whl (62 kB)\n",
      "Requirement already satisfied: idna<4,>=2.5 in c:\\users\\allen\\documents\\github\\variant\\venv\\lib\\site-packages (from requests>=2.16.0->web3) (3.4)\n",
      "Requirement already satisfied: urllib3<1.27,>=1.21.1 in c:\\users\\allen\\documents\\github\\variant\\venv\\lib\\site-packages (from requests>=2.16.0->web3) (1.26.15)\n",
      "Requirement already satisfied: certifi>=2017.4.17 in c:\\users\\allen\\documents\\github\\variant\\venv\\lib\\site-packages (from requests>=2.16.0->web3) (2022.12.7)\n",
      "Collecting toolz>=0.8.0 (from cytoolz>=0.10.1->eth-utils>=2.1.0->web3)\n",
      "  Using cached toolz-0.12.0-py3-none-any.whl (55 kB)\n",
      "Collecting regex>=2022.3.15 (from parsimonious<0.10.0,>=0.9.0->eth-abi>=4.0.0->web3)\n",
      "  Downloading regex-2023.5.5-cp39-cp39-win_amd64.whl (267 kB)\n",
      "                                              0.0/268.0 kB ? eta -:--:--\n",
      "     -------------------------------------- 268.0/268.0 kB 5.5 MB/s eta 0:00:00\n",
      "Building wheels for collected packages: parsimonious\n",
      "  Building wheel for parsimonious (pyproject.toml): started\n",
      "  Building wheel for parsimonious (pyproject.toml): finished with status 'done'\n",
      "  Created wheel for parsimonious: filename=parsimonious-0.9.0-py3-none-any.whl size=44376 sha256=d4da485c4cb25dbc96762a906bc38f4b22b9e84727d1a289b9da43da18f41d46\n",
      "  Stored in directory: c:\\users\\allen\\appdata\\local\\pip\\cache\\wheels\\98\\f5\\bb\\28d71f018fa6da82e7488371edcbc506add6b3cff02ed9d6fd\n",
      "Successfully built parsimonious\n",
      "Installing collected packages: lru-dict, bitarray, websockets, toolz, regex, pyrsistent, pycryptodome, protobuf, multidict, hexbytes, frozenlist, eth-typing, eth-hash, attrs, async-timeout, yarl, parsimonious, jsonschema, cytoolz, aiosignal, eth-utils, aiohttp, rlp, eth-keys, eth-abi, eth-rlp, eth-keyfile, eth-account, web3\n",
      "Successfully installed aiohttp-3.8.4 aiosignal-1.3.1 async-timeout-4.0.2 attrs-23.1.0 bitarray-2.7.3 cytoolz-0.12.1 eth-abi-4.0.0 eth-account-0.8.0 eth-hash-0.5.1 eth-keyfile-0.6.1 eth-keys-0.4.0 eth-rlp-0.3.0 eth-typing-3.3.0 eth-utils-2.1.0 frozenlist-1.3.3 hexbytes-0.3.0 jsonschema-4.17.3 lru-dict-1.1.8 multidict-6.0.4 parsimonious-0.9.0 protobuf-4.22.4 pycryptodome-3.17 pyrsistent-0.19.3 regex-2023.5.5 rlp-3.0.0 toolz-0.12.0 web3-6.3.0 websockets-11.0.2 yarl-1.9.2\n"
     ]
    }
   ],
   "source": [
    "!pip install web3"
   ]
  },
  {
   "cell_type": "code",
   "execution_count": 1,
   "metadata": {},
   "outputs": [
    {
     "name": "stdout",
     "output_type": "stream",
     "text": [
      "416\n",
      "                                         wallet\n",
      "0    0x5a98fcbea516cf06857215779fd812ca3bef1b32\n",
      "1    0x9f8f72aa9304c8b593d555f12ef6589cc3a579a2\n",
      "2    0x7d1afa7b718fb893db30a3abc0cfc608aacfebb0\n",
      "3    0x2260fac5e5542a773aa44fbcfedf7c193bc2c599\n",
      "4    0xD533a949740bb3306d119CC777fa900bA034cd52\n",
      "..                                          ...\n",
      "145  0xde30da39c46104798bb5aa3fe8b9e0e1f348163f\n",
      "146  0xc18360217d8f7ab5e7c516566761ea12ce7f9d72\n",
      "147  0x6810e776880c02933d47db1b9fc05908e5386b96\n",
      "148  0x514910771af9ca656af840dff83e8264ecf986ca\n",
      "149  0x4d224452801aced8b2f0aebe155379bb5d594381\n",
      "\n",
      "[150 rows x 1 columns]\n"
     ]
    }
   ],
   "source": [
    "# Holder Count Testing\n",
    "import pandas as pd\n",
    "from web3 import Web3\n",
    "\n",
    "df = pd.read_csv('variant_db.csv')\n",
    "print(len(df))\n",
    "# print(len(df))\n",
    "# print(df['address'].count())\n",
    "# df['address'] = df['address'].fillna('No')\n",
    "# df2 = df[~df[\"address\"].str.contains(':')]\n",
    "# df2 = df2[df2[\"address\"] != 'No'].reset_index(drop=True)\n",
    "# print(len(df2))\n",
    "# print(df2)\n",
    "\n",
    "hdc = df['address'].values.tolist()\n",
    "\n",
    "wallet_list = []\n",
    "# print(len(hdc))\n",
    "# print(Web3.is_address(hdc[0]), hdc[0])\n",
    "# print(Web3.is_address(hdc[1]), hdc[1])\n",
    "\n",
    "for i, address in enumerate(hdc):\n",
    "    if Web3.is_address(address):\n",
    "    # if address == address and (\":\" not in address):\n",
    "        # print(f'searching: {address}')\n",
    "        # Get Holder Count Data (7d & 1m change)\n",
    "        wallet_list.append(address)\n",
    "        \n",
    "wdf = pd.DataFrame(data={'wallet': wallet_list})\n",
    "wdf.to_csv('testaddresses.csv', index=False)\n",
    "print(wdf)"
   ]
  }
 ],
 "metadata": {
  "kernelspec": {
   "display_name": "venv",
   "language": "python",
   "name": "python3"
  },
  "language_info": {
   "codemirror_mode": {
    "name": "ipython",
    "version": 3
   },
   "file_extension": ".py",
   "mimetype": "text/x-python",
   "name": "python",
   "nbconvert_exporter": "python",
   "pygments_lexer": "ipython3",
   "version": "3.9.13"
  },
  "orig_nbformat": 4
 },
 "nbformat": 4,
 "nbformat_minor": 2
}
