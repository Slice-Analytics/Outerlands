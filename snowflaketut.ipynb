{
 "cells": [
  {
   "cell_type": "code",
   "execution_count": 4,
   "metadata": {},
   "outputs": [
    {
     "name": "stdout",
     "output_type": "stream",
     "text": [
      "7.20.0\n"
     ]
    }
   ],
   "source": [
    "import snowflake.connector\n",
    "\n",
    "#create connection\n",
    "conn = snowflake.connector.connect(\n",
    "    user=\"ALLENSLICEANALYTICS\",\n",
    "    password=\"Sl!ceJAT2022\",\n",
    "    account=\"msb68270.us-east-1\",\n",
    "    # warehouse=\"demo_wh\",\n",
    "    # database=\"demo\",\n",
    "    # schema=\"public\"\n",
    ")\n",
    "#create cursor\n",
    "curs = conn.cursor()\n",
    "\n",
    "#execute SQL statement\n",
    "curs.execute(\"select current_version()\")\n",
    "\n",
    "#fetch result\n",
    "print(curs.fetchone()[0])\n"
   ]
  },
  {
   "cell_type": "code",
   "execution_count": 1,
   "metadata": {},
   "outputs": [
    {
     "name": "stdout",
     "output_type": "stream",
     "text": [
      "['Binance CEX', 'Lido', 'OKX', 'Bitfinex', 'MakerDAO', 'Polygon Bridge & Staking', 'Curve DEX', 'WBTC', 'JustLend', 'AAVE V2', 'Crypto-com', 'Convex Finance', 'JustCryptos', 'Huobi', 'Uniswap V3', 'Bybit', 'Kucoin', 'Coinbase Wrapped Staked ETH', 'Instadapp', 'Gate-io', 'Deribit', 'PancakeSwap AMM', 'Multichain', 'Bitget', 'Rocket Pool', 'AAVE V3', 'Compound', 'JustStables', 'Uniswap V2', 'Balancer V2', 'Bitmex', 'Venus', 'Liquity', 'GMX', 'Aura', 'SwissBorg', 'Compound V3', 'Stargate', 'Yearn Finance', 'SushiSwap', 'SUNSwap', 'Synthetix', 'dYdX', 'Binance US', 'Korbit', 'Frax Ether', 'Morpho Aave', 'Beefy', 'Poly Network', 'PancakeSwap AMM V3', 'Portal', 'Nexo', 'Tornado Cash', 'Bwatch', 'Velodrome', 'Nexus Mutual', 'Radiant V2', 'Abracadabra', 'hBTC', 'UniCrypt', 'Chronos', 'Coinwind', 'Stacks Staking', 'Synapse', 'Alpaca Leveraged Yield Farming', 'PinkSale', 'Arrakis V1', 'BiSwap', 'VVS Finance', 'StakeWise', 'Chainge Finance', 'Ankr', 'Osmosis DEX', 'xDAI Stake Bridge', 'Parallel Liquid Crowdloan', 'ParaSpace Lending', 'BendDAO Lending', 'Lightning Network', 'ChainPort', 'Orbit Bridge', 'DefiChain DEX', 'Frax', 'cBridge', 'Benqi Lending', 'Binance staked ETH', 'Acala LCDOT', 'Tectonic', 'Balancer V1', 'Fraxlend', 'DefiSaver', 'StakeHound', 'Ondo Finance', 'Blur Bids', 'Firi', 'Stader', 'MaskEX', 'KlaySwap', 'Team Finance', 'Thorchain', 'Loopring', 'Mento', 'Cake DeFi', 'Gamma', 'Marinade Finance', 'Hop Protocol', 'DefiChain Loans', 'Wombat Exchange', 'Alpaca Lending', 'WOO X', 'Benqi Staked Avax', 'Phemex', 'SUN.io', 'Conic Finance', 'Kava Lend', 'Camelot V2', 'Coinsquare', 'Quickswap Dex', 'Algofi Lend', 'Katana DEX', 'Sushi BentoBox', 'Set Protocol', 'Gearbox', 'Enzyme Finance', 'RealT Tokens', 'OKC Liquid Staking', 'Beethoven X', 'Flexa', 'Canto Dex', 'MatrixDock', 'Kava Mint', 'SpookySwap', 'UwU Lend', 'DxSale', 'Pendle', 'Concentrator', 'Bancor V3', 'Frax Swap', 'Wombex Finance', 'Flamincome', 'Quickswap V3', 'Index Coop', '4Swap', 'CoinDCX', 'Gains Network', 'QiDao', 'Pando Leaf', 'Helio Protocol', 'Homora V2', 'Axelar', 'Alchemix', 'StakeDAO', 'ParaSpace APE Staking', 'EOS REX', 'Tranchess', 'MDEX', 'Minswap', 'xExchange', 'Kava Earn', 'Kava Liquid', 'CRETH2', 'PancakeSwap StableSwap', 'Tetu Earn', 'Trader Joe DEX', 'Across', 'MoneyOnChain', 'Vires Finance', 'DODO', 'BabyDogeSwap', 'Geist Finance', 'dForce', 'Flamingo Finance', 'ApolloX', 'THENA V1', 'ACryptoS', 'Badger DAO', 'Ad-Astra Bridge', 'MUX Protocol', 'Origin Dollar', 'Terra Bridge', 'Ferro', 'Algo Liquid Governance', 'Orca', 'Overnight USD+', 'ether.fi', 'Flux Finance', 'Yield Yak Aggregator', 'Canto Lending', 'Agility LSD', 'Silo Finance', 'pNetwork', 'unshETH', 'Tokemak', 'SyncSwap', \"JPEG'd\", 'ioTube', 'Moonwell Artemis', 'THENA FUSION', 'Notional', 'Platypus Finance', 'dHEDGE', 'Unslashed', 'SPL Governance', 'Stride', 'Pangolin', 'Acala Dollar', 'Reflexer', 'Level Finance', 'B.Protocol', 'Stafi', 'Sonne Finance', 'Jones DAO', 'Vector Finance', 'Ribbon', 'Idle', 'Keep3r Network', 'ApeSwap AMM', 'SharedStake', 'CIAN', 'MojitoSwap', 'REX Staking', 'Raydium', 'Lyra', 'DefiBox', 'KLAYstation', 'Connext', 'Joe V2.1', 'Youves', 'NFTfi', 'Indigo', 'Lofty', 'Wing Finance', 'Tangible', 'ShibaSwap', 'iZiSwap', 'ALEX', 'Llama Airforce', 'OKCSwap', 'Ellipsis Finance', 'SashimiSwap', 'Opyn Gamma', 'IPOR', 'Toucan Protocol', 'RelayChain', 'Liqee', 'RenVM', 'Dopex', 'ApeX Protocol', 'Toros', 'Mare Finance', 'Iron Bank', 'Bancor V2.1', 'Parallel Lending', 'Astroport', 'Solend', 'NFTX', 'Bifrost Liquid Staking', 'Swappi', 'Sovryn Zero', 'DeFi Franc', 'Sovryn Dex', 'W3swap', 'DeltaPrime', 'Cetus', 'Kleva Lend', 'Tarot', 'Rhino.fi', 'Mimo Protocol', 'Perpetual Protocol', 'LSDx ETHx', 'Tezos Liquidity Baking', 'NeoBurger', 'Arbitrum Exchange', 'Maverick Protocol', 'Rage Trade', 'Equalizer Exchange', 'Aktionariat', 'KyberSwap Classic', 'Meshswap', 'Solo Top', 'Ramses Exchange', 'SaucerSwap', 'Stake.ly', 'Serum', 'The Tokenized Bitcoin', 'BiFi', 'Exactly', 'Granary Finance', 'Magpie', 'Sommelier', 'WingRiders', 'Hotbit', 'Torches', 'LUSD ChickenBonds', 'Decryption', 'Dfyn Network', 'Atrix', 'Verse', 'Ref Finance', 'Vesta Finance', 'Autofarm', 'Mummy Finance', 'Lybra Finance', 'Angle', 'Folks Finance Lending', 'Francium', 'Meta Pool', 'Vesper', 'Overnight DAI+', 'CLever', 'Reaper Farm', 'Sturdy', 'BendDAO APE Staking', 'Helix', 'Belt Finance', 'PoolTogether', 'Pirex', 'sICX', 'tBTC', 'Joe V2', 'Shell Protocol', 'NestFi', 'PlutusDAO', 'Djed Stablecoin', 'ExinPool', 'Bifrost Liquid Crowdloan', 'Reserve', 'Pando Rings', 'Morpho Compound', 'Green Planet', 'NBX', 'AAVE V1', 'Wrapped', 'Spool Protocol', 'Velocore', 'WEMIX.FI AMM', 'Jito', 'Agave', 'Opyn Squeeth', 'Quarry', 'Yeti Finance', 'WOOFi Earn', 'Ouchi Finance', 'Swell', 'Tulip Protocol', 'Strike', 'GMD Protocol', 'Equilibre', 'Redacted Protocol', 'Injective Bridge', 'SmarDex', 'Pika Protocol', '01', 'LiNEAR Protocol', 'Sushi Trident', 'GETH', 'StellarX', 'Liqwid', 'FilDA', 'ArthSwap', 'Acala Liquid-Staking', 'JPool', 'ThalaSwap', 'Sphere Finance', 'Lodestar Finance', 'Dot Dot Finance', 'Railgun', 'Aztec', 'Harvest Finance', 'Juicebox V1', 'Saddle Finance', 'Bella Protocol', 'Nuls', 'Megaton Finance', 'Clipper', 'Blur Lending', 'Arcade xyz', 'Algem', 'Velocimeter V2', 'Uniswap V1', 'Secret Network', '1inch Network', 'FlokiFi Locker', 'Defi Swap', 'Swipe', 'Fei Protocol', 'Olympus DAO', 'Illuvium', 'Telcoin', 'DAO Maker Vesting', 'The Sandbox', 'API3', 'TreasureDAO', 'Bitgert', 'Aragon', 'BitDAO', 'ENS', 'Gnosis DAO', 'Chainlink', 'ApeCoin', 'Aptos', 'Canto', 'Arbitrum', 'Bitcoin', 'Moonbeam']\n"
     ]
    }
   ],
   "source": [
    "import pandas as pd\n",
    "\n",
    "df = pd.read_csv('Protocols_20230508.csv')\n",
    "ns = pd.read_csv('ArtemisAnalyticsNamespace.csv')\n",
    "ns_fr = ns['FRIENDLY_NAME'].values.tolist()\n",
    "names = df['name'].values.tolist()\n",
    "\n",
    "for name in names:\n",
    "    # for fr in ns_fr:\n",
    "\n",
    "    \n",
    "    break\n",
    "\n",
    "\n"
   ]
  }
 ],
 "metadata": {
  "kernelspec": {
   "display_name": "venv",
   "language": "python",
   "name": "python3"
  },
  "language_info": {
   "codemirror_mode": {
    "name": "ipython",
    "version": 3
   },
   "file_extension": ".py",
   "mimetype": "text/x-python",
   "name": "python",
   "nbconvert_exporter": "python",
   "pygments_lexer": "ipython3",
   "version": "3.9.13"
  },
  "orig_nbformat": 4
 },
 "nbformat": 4,
 "nbformat_minor": 2
}
